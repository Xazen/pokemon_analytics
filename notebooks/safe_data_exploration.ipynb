{
 "cells": [
  {
   "cell_type": "markdown",
   "metadata": {},
   "source": [
    "# 🔒 Safe Pokemon Data Exploration\n",
    "\n",
    "This notebook demonstrates **safe** ways to explore and test your Pokemon analytics pipeline without breaking your production database.\n",
    "\n",
    "## ⚠️ Important Safety Rules:\n",
    "1. **READ-ONLY Operations**: Only query data, never insert/update/delete\n",
    "2. **Small Test Batches**: Use `--limit` for testing collection scripts\n",
    "3. **Isolated Testing**: Use separate test schemas when needed\n",
    "4. **Backup First**: Always backup before major operations"
   ]
  },
  {
   "cell_type": "code",
   "execution_count": null,
   "metadata": {},
   "outputs": [],
   "source": [
    "# Setup - Add src to path for importing our modules\n",
    "import sys\n",
    "import pandas as pd\n",
    "import psycopg2\n",
    "from sqlalchemy import create_engine\n",
    "import logging\n",
    "\n",
    "# Add our source code to Python path\n",
    "sys.path.append('/home/jovyan/src')\n",
    "\n",
    "# Import our utilities\n",
    "from utils.docker_utils import get_database_config, log_environment_info\n",
    "\n",
    "print(\"🚀 Setup complete!\")"
   ]
  },
  {
   "cell_type": "markdown",
   "metadata": {},
   "source": [
    "## 1. 🔍 Safe Database Exploration (READ-ONLY)"
   ]
  },
  {
   "cell_type": "code",
   "execution_count": null,
   "metadata": {},
   "outputs": [],
   "source": [
    "# Safe way to explore your database\n",
    "log_environment_info()\n",
    "\n",
    "# Get database connection\n",
    "db_config = get_database_config()\n",
    "conn_string = f\"postgresql://{db_config['user']}:{db_config['password']}@{db_config['host']}:{db_config['port']}/{db_config['database']}\"\n",
    "engine = create_engine(conn_string)\n",
    "\n",
    "print(\"📊 Database connection established (READ-ONLY mode)\")"
   ]
  },
  {
   "cell_type": "code",
   "execution_count": null,
   "metadata": {},
   "outputs": [],
   "source": [
    "# Safe exploration: Check what data we currently have\n",
    "with engine.connect() as conn:\n",
    "    # Check raw data\n",
    "    pokemon_count = conn.execute(\"SELECT COUNT(*) FROM raw.pokemon\").fetchone()[0]\n",
    "    usage_count = conn.execute(\"SELECT COUNT(*) FROM raw.usage_stats\").fetchone()[0]\n",
    "    \n",
    "    # Check analytics data\n",
    "    analytics_pokemon = conn.execute(\"SELECT COUNT(*) FROM analytics.dim_pokemon\").fetchone()[0]\n",
    "    analytics_usage = conn.execute(\"SELECT COUNT(*) FROM analytics.fact_usage\").fetchone()[0]\n",
    "    \n",
    "print(f\"📊 Current Data Status:\")\n",
    "print(f\"   Raw Pokemon: {pokemon_count}\")\n",
    "print(f\"   Raw Usage Stats: {usage_count}\")\n",
    "print(f\"   Analytics Pokemon: {analytics_pokemon}\")\n",
    "print(f\"   Analytics Usage Facts: {analytics_usage}\")"
   ]
  },
  {
   "cell_type": "code",
   "execution_count": null,
   "metadata": {},
   "outputs": [],
   "source": [
    "# Safe exploration: Look at sample data\n",
    "sample_pokemon = pd.read_sql(\"\"\"\n",
    "    SELECT name, type1, type2, base_stat_total \n",
    "    FROM raw.pokemon \n",
    "    ORDER BY base_stat_total DESC \n",
    "    LIMIT 5\n",
    "\"\"\", engine)\n",
    "\n",
    "print(\"🏆 Top 5 Pokemon by Base Stats:\")\n",
    "display(sample_pokemon)"
   ]
  },
  {
   "cell_type": "markdown",
   "metadata": {},
   "source": [
    "## 2. 🧪 Safe Testing of Collection Scripts\n",
    "\n",
    "**✅ SAFE**: Use small limits to test without overwhelming the database"
   ]
  },
  {
   "cell_type": "code",
   "execution_count": null,
   "metadata": {},
   "outputs": [],
   "source": [
    "# Safe way to test Pokemon collection - SMALL BATCHES ONLY!\n",
    "# This will add only 3 new Pokemon if they don't exist\n",
    "\n",
    "import subprocess\n",
    "import sys\n",
    "\n",
    "# Test with a very small limit (safe)\n",
    "print(\"🧪 Testing Pokemon collector with 3 Pokemon (safe test)...\")\n",
    "result = subprocess.run([\n",
    "    sys.executable, \n",
    "    '/home/jovyan/src/collectors/pokemon_collector.py', \n",
    "    '--start-id', '151',  # Start from a different ID to avoid duplicates\n",
    "    '--limit', '3'        # Very small test\n",
    "], capture_output=True, text=True)\n",
    "\n",
    "print(\"STDOUT:\", result.stdout)\n",
    "if result.stderr:\n",
    "    print(\"STDERR:\", result.stderr)\n",
    "print(f\"Return code: {result.returncode}\")"
   ]
  },
  {
   "cell_type": "markdown",
   "metadata": {},
   "source": [
    "## 3. 📈 Safe Analytics Exploration"
   ]
  },
  {
   "cell_type": "code",
   "execution_count": null,
   "metadata": {},
   "outputs": [],
   "source": [
    "# Safe way to explore analytics results\n",
    "usage_trends = pd.read_sql(\"\"\"\n",
    "    SELECT \n",
    "        pokemon_name,\n",
    "        format,\n",
    "        usage_percentage,\n",
    "        rank\n",
    "    FROM analytics.fact_usage\n",
    "    WHERE rank <= 10\n",
    "    ORDER BY usage_percentage DESC\n",
    "\"\"\", engine)\n",
    "\n",
    "print(\"🏆 Top 10 Most Used Pokemon:\")\n",
    "display(usage_trends)"
   ]
  },
  {
   "cell_type": "code",
   "execution_count": null,
   "metadata": {},
   "outputs": [],
   "source": [
    "# Safe way to visualize data without modifying it\n",
    "import matplotlib.pyplot as plt\n",
    "import seaborn as sns\n",
    "\n",
    "# Create a simple usage chart\n",
    "plt.figure(figsize=(12, 6))\n",
    "top_10 = usage_trends.head(10)\n",
    "plt.barh(top_10['pokemon_name'], top_10['usage_percentage'])\n",
    "plt.xlabel('Usage Percentage')\n",
    "plt.title('Top 10 Pokemon by Usage')\n",
    "plt.gca().invert_yaxis()\n",
    "plt.tight_layout()\n",
    "plt.show()\n",
    "\n",
    "print(\"📊 Visualization complete - no data modified!\")"
   ]
  },
  {
   "cell_type": "markdown",
   "metadata": {},
   "source": [
    "## 4. 🔒 Import and Use Production Functions Safely"
   ]
  },
  {
   "cell_type": "code",
   "execution_count": null,
   "metadata": {},
   "outputs": [],
   "source": [
    "# Safe way to import and use functions from your production scripts\n",
    "from analytics.advanced_competitive_analytics import (\n",
    "    connect_to_database,\n",
    "    load_analytics_data,\n",
    "    analyze_meta_health\n",
    ")\n",
    "\n",
    "# Use read-only functions safely\n",
    "print(\"📊 Loading analytics data for exploration...\")\n",
    "conn = connect_to_database()\n",
    "pokemon_df, usage_df, type_df, trends_df = load_analytics_data(conn)\n",
    "\n",
    "print(f\"✅ Loaded data:\")\n",
    "print(f\"   Pokemon: {len(pokemon_df)} records\")\n",
    "print(f\"   Usage: {len(usage_df)} records\")\n",
    "print(f\"   Type effectiveness: {len(type_df)} records\")\n",
    "print(f\"   Trends: {len(trends_df)} records\")\n",
    "\n",
    "conn.close()"
   ]
  },
  {
   "cell_type": "markdown",
   "metadata": {},
   "source": [
    "## 5. ⚠️ What NOT to Do in Jupyter\n",
    "\n",
    "```python\n",
    "# ❌ DON'T DO THESE - They can break your production data:\n",
    "\n",
    "# ❌ Don't run full collection without limits\n",
    "# !python /home/jovyan/src/collectors/pokemon_collector.py --all\n",
    "\n",
    "# ❌ Don't run ETL pipeline repeatedly\n",
    "# !python /app/src/processors/pokemon_etl_pipeline.py\n",
    "\n",
    "# ❌ Don't execute raw SQL that modifies data\n",
    "# engine.execute(\"DELETE FROM raw.pokemon WHERE name = 'pikachu'\")\n",
    "\n",
    "# ❌ Don't run production scrapers without limits\n",
    "# !python /home/jovyan/src/scrapers/showdown_scraper.py --all-formats\n",
    "```"
   ]
  },
  {
   "cell_type": "markdown",
   "metadata": {},
   "source": [
    "## 6. ✅ Safe Production Commands\n",
    "\n",
    "When you want to run production operations, use the proper containers:\n",
    "\n",
    "```bash\n",
    "# ✅ Safe production commands (run in terminal, not Jupyter):\n",
    "\n",
    "# Data collection (controlled)\n",
    "docker-compose exec jupyter python /home/jovyan/src/collectors/pokemon_collector.py --limit 50\n",
    "\n",
    "# Scraping (limited)\n",
    "docker-compose exec jupyter python /home/jovyan/src/scrapers/showdown_scraper.py --format gen9ou --months 1\n",
    "\n",
    "# ETL processing (in Spark container)\n",
    "docker-compose exec spark-master python /app/src/processors/pokemon_etl_pipeline.py\n",
    "\n",
    "# Analytics (read-only)\n",
    "docker-compose exec jupyter python /home/jovyan/src/analytics/advanced_competitive_analytics.py\n",
    "```"
   ]
  },
  {
   "cell_type": "code",
   "execution_count": null,
   "metadata": {},
   "outputs": [],
   "source": [
    "print(\"🎉 Safe exploration complete!\")\n",
    "print(\"\\n💡 Remember:\")\n",
    "print(\"   ✅ Use Jupyter for: Exploration, visualization, analysis, small tests\")\n",
    "print(\"   ✅ Use Terminal for: Production data collection, ETL, large operations\")\n",
    "print(\"   🔒 Always: Use limits, read-only queries, backup before major changes\")"
   ]
  }
 ],
 "metadata": {
  "kernelspec": {
   "display_name": "Python 3 (ipykernel)",
   "language": "python",
   "name": "python3"
  },
  "language_info": {
   "codemirror_mode": {
    "name": "ipython",
    "version": 3
   },
   "file_extension": ".py",
   "mimetype": "text/x-python",
   "name": "python",
   "nbconvert_exporter": "python",
   "pygments_lexer": "ipython3",
   "version": "3.11.6"
  }
 },
 "nbformat": 4,
 "nbformat_minor": 4
}